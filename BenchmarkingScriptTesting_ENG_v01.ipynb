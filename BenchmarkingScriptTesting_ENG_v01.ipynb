{
  "cells": [
    {
      "metadata": {
        "collapsed": true,
        "slideshow": {
          "slide_type": "slide"
        }
      },
      "cell_type": "markdown",
      "source": "# Benchmarking and script testing\n\n- What are problems it solves\n\n- An example of a research problem: sentiment analysis\n\n- What is benchmarking?\n\n- What is experimantal design?\n\n- Selected statistical schemes\n\n- Script testing\n\n- Possible appendix:\n    - Hypothese testing\n    - determining sampling size: hypothes testing\n    - determining sampling size: parameter estimation\n\n### Major problem: traceability of experiments & optimal time investment\n\n\n\n<img src=\"https://raw.githubusercontent.com/andrejkk/ORvTK_SlidesImgs/master/footer_full.jpg\">"
    },
    {
      "metadata": {
        "slideshow": {
          "slide_type": "slide"
        }
      },
      "cell_type": "markdown",
      "source": "## What is benchmarking?\n\n<br>\n##### Making the fair comparison to our and other algorithms possible. \n\n\n<br>\nBenchmarking components:\n* Shared (public) dataset: like Lena\n<img style=\"float: right;\" src=\"https://raw.githubusercontent.com/andrejkk/ORvTK_SlidesImgs/master/220px-Lenna.png\">\n\n* Shared sucess metrics: RMSE, perception based tests\n\n* Clearly defined experimental procedures \n\n\n\n<img src=\"https://raw.githubusercontent.com/andrejkk/ORvTK_SlidesImgs/master/footer_full.jpg\">"
    },
    {
      "metadata": {
        "slideshow": {
          "slide_type": "slide"
        }
      },
      "cell_type": "markdown",
      "source": "## Example: a development of sentiment analysis algorithm \n\n- The experimental settings (figure)\n\n\n\n- Research question: does the age matters?\n\n\n\n\n#### Problem: how to get **the effect of age** out of all **other other effects** ? \n\n\n<img src=\"https://raw.githubusercontent.com/andrejkk/ORvTK_SlidesImgs/master/footer_full.jpg\">"
    },
    {
      "metadata": {
        "slideshow": {
          "slide_type": "slide"
        }
      },
      "cell_type": "markdown",
      "source": "## Experimental design\n\n- What is experimental design\n    - nonexperimental designs\n    - experimental design\n    \n  \n- A scheme of experimental design (figure) \n\n\n\n\n- Elements of experimental design\n    - outcome = dependent variable: how we measure sucess\n    - factor(s) = independent variable(s): what we control\n    - nuisance facotr(s) = independent variable(s): what we want to eliminate\n    - possibly additional pure noise\n\n\n\n#### Problem: is the effect size large enough to detect it\n- What is effect size\n\n\n#### Is the progres a coincidence or real?\n- Solution: hypothese testing [Appendix if you chose to have it]\n\n\n<img src=\"https://raw.githubusercontent.com/andrejkk/ORvTK_SlidesImgs/master/footer_full.jpg\">"
    },
    {
      "metadata": {
        "slideshow": {
          "slide_type": "slide"
        }
      },
      "cell_type": "markdown",
      "source": "## On types of experimental designs\n\n- Major design is covered by **ANOVA**\n    - What is ANOVA: a scheme of input data, to the F-test (Figure)\n    - Versions: MANOVA, ANCOVA\n    - Names: \n        - one factor: one-way ANOVA\n        - two factors two-way ANOBA\n        - more than two factors: ---> factorial design\n\n\n\n- Interesting design is a **Latin Square**\n    - latin square covers two factors \n    - $n\\times n$ Latin square (figure)\n    - design guide: \n        - what are **two most relevant** factors?\n        - how to group their levels into $n$ values?\n\n\n\n<img src=\"https://raw.githubusercontent.com/andrejkk/ORvTK_SlidesImgs/master/footer_full.jpg\">"
    },
    {
      "metadata": {
        "slideshow": {
          "slide_type": "slide"
        }
      },
      "cell_type": "markdown",
      "source": "## Toward the implementation: testing schemes\n\n### Must have \n* train and test set are disjoint \n* one split is not enough: you could be lucky\n\n\n\n### Solution: folding\n* 10-fold cross validation\n* randomized foldoing\n* leave one out\n\n\n<img src=\"https://raw.githubusercontent.com/andrejkk/ORvTK_SlidesImgs/master/footer_full.jpg\">"
    },
    {
      "metadata": {
        "slideshow": {
          "slide_type": "slide"
        }
      },
      "cell_type": "markdown",
      "source": "## Concept of script testing\n\n### Problem of \n- **traceability**: can you recosntruct the experiment after sine time? \n    * When PhD student leaves\n    * Re-run of experiments from a few years back?\n    * Trace several 100 of experiments? \n- **time investment** of a researcher\n\n\n### What does not work\n* Writing reports by hand\n* Automatic documenting systems \n\n\n### Solution: self-documenting scripts\n\n* The script runExperiments.py:\n    - is the documentation\n    - fully automatically report results\n\n\n\n\n* \"Do not drag the data arround\"\n\n\n\n* Fixed strucuture of data access: HD maps or DB  \n\n\n\n* The strucuture of test script\n\n\n<img src=\"https://raw.githubusercontent.com/andrejkk/ORvTK_SlidesImgs/master/footer_full.jpg\">"
    },
    {
      "metadata": {
        "trusted": false
      },
      "cell_type": "code",
      "source": "%matplotlib inline\n\n# Directories\n# 01-Experiments\\ExpKey1\\runExperiment.py\n#               \\ExpKey1\\runExperiment.py\n# 02-Data\\DataKey1\\\n#        \\DataKey2\\ \n# 03-Tools\\kNN_mu\\\n#         \\parser\\ \n\ndef get_dists(x, k, train_set):\n    ts_len = train_set.shape[0]\n    dist_arr = np.zeros(ts_len)\n    for ii in range(ts_len):\n        dist_arr[ii] = np.linalg.norm(train_set.iloc[ii, :] - x)\n       \n    ord_dist_arr = np.sort(dist_arr)\n    return ord_dist_arr[0:k]\n    \n    \n#def write_to_file(filename, string):\n#    with open(filename, \"a\") as out:\n#        out.write(\"{}\\n\".format(string))\ndef trace_to_file(trace_f, string):\n    if trace_Q:\n        trace_f.write(\"{}\".format(string))\n    else:\n        print \"{}\".format(string)\n        \ndef trace_to_file_EOL(trace_f, string):\n    if trace_Q:\n        trace_f.write(\"{}\".format(string) + \"\\n\")\n    else:\n        print \"{}\".format(string) + \"\\n\"\n\n        \n        \n# ===========================================================================================================        \n## 1. Short description -------------------------------------------------------------------------------------\n# @brief An optimization of kNN classification regarding a parametr k\n# @author AndrejK\n# @time 2018-03-16\n\n\n# ===========================================================================================================\n## 2. Configuration, libraries ------------------------------------------------------------------------------\n# Data\nabs_path = '/home/nbuser/library/'\ndata_path1 = '../../02-Data/08-Iris/'\ndata_path2 = '/home/nbuser/library/'\ndata_FN = 'iris.data'\n\n# Functions\nfunct_path = '/home/nbuser/library/00xBed/03-Tools/'\n\n# Trace files \nrel_path = '00xBed/01-Experiments/'\ncore_trace_FN = '_OptimalKNN_trace.txt'\ntrace_Q = True\n\n# Load libraries -------------------------------------------------------------------------------------------\nimport os, platform, sys\nimport numpy as np\nimport pandas as pd\nimport datetime as dt\nfrom sklearn import neighbors, datasets\nfrom sklearn.metrics import confusion_matrix, accuracy_score\nimport matplotlib.pyplot as plt\nfrom sklearn.model_selection import train_test_split\nfrom sklearn.datasets.samples_generator import make_blobs\n\n\n\n\n# ===========================================================================================================\n# 3. Experimental design ---------------------------------------------------------------------------------------\nk_lst = [1, 2, 3, 4, 5, 8, 10, 15, 20, 25, 30, 60] # factor\n# k_lst = range(1, 20)\nfolds_num = 10\ntrain_test_p = 0.3\nweights_in = 'uniform' # 'distance' \n\n\n\n# ============================================================================================================\n# 4. Load data & trace files ---------------------------------------------------------------------------------\n    \n# Load data & rearange it\n#data = datasets.load_boston() # Load and return the boston house-prices dataset (regression).\n#data = datasets.load_iris() #Load and return the iris dataset (classification).\n#data = datasets.load_diabetes() # Load and return the diabetes dataset (regression).\n#data = datasets.load_digits() # Load and return the digits dataset (classification).\n#data = datasets.load_linnerud() # Load and return the linnerud dataset (multivariate regression).\n#data = datasets.load_breast_cancer() # Load and return the breast cancer wisconsin dataset (classification).\n#data = datasets.load_boston() \n#data.target = data.target * 10\n\n# Randomly generte data\nnum_of_s, num_of_feats, num_of_cls = 100, 5, 3\ncluster_stdIn = 1.2\ncenter_boxIn = (-2.0, 2.0) \nX, y = make_blobs(n_samples=num_of_s, centers=num_of_cls, n_features=num_of_feats, random_state=0, cluster_std=cluster_stdIn, center_box=center_boxIn)\n\n# Creare trace file\ntime_curr = dt.datetime.now().strftime(\"%Y-%m-%d-%H-%M-%S\")\ntrace_FN = abs_path + rel_path + time_curr + core_trace_FN\nif trace_Q:\n    trace_file = open(trace_FN, 'w') \n\n\n        \n## Settings -------------------------------------------------------------------------------------------------\n# Flatten experiment - do develop single run case\nk = 3\n\n# Permutation\n#np.random.randint(3, 10)\n# all_perm = np.random.permutation(range(data_len))\n# cut_ind = int(np.floor(train_test_p*data_len))\n# train_perm = all_perm[cut_ind:]\n# test_perm = all_perm[0:cut_ind]\n\n\n# train_fold = iris_data.loc[train_perm]\n# test_fold = iris_data.loc[test_perm]\n\n# f_curr = iris_data.loc[12, ['f1', 'f2', 'f3', 'f4']]\n# C_curr = iris_data.loc[12, ['C']]\n# #print C_curr\n\n\n# =============================================================================================================\n# 5. Report ---------------------------------------------------------------------------------------------------\n# Basics\ntrace_to_file_EOL(trace_file, 'An optimization of kNN classification regarding a parametr k')\ntrace_to_file_EOL(trace_file, 'Time: ' + time_curr)\ntrace_to_file_EOL(trace_file, 'OS: ' + platform.system())\ntrace_to_file_EOL(trace_file, 'Python ver: ' + platform.python_version())\n\n# Experimental design\ntrace_to_file_EOL(trace_file, '')\ntrace_to_file_EOL(trace_file, 'NumOfFolds: ' + str(folds_num))\ntrace_to_file_EOL(trace_file, 'Test to train ratio: ' + str(train_test_p))\n#trace_to_file(trace_file, )\n\n\n# ============================================================================================================\n# 6. Implement Experiment --------------------------------------------------------------------------------------------\ntrace_to_file_EOL(trace_file, '@@BeginTab')\ntrace_to_file_EOL(trace_file, 'Fold' + ' & ' + '{}'.format(k_lst))\n\n\nacc_lst = []\n \nfor k in k_lst:\n    fold_acc_lst = []\n    for ii in range(folds_num): # 10-fold cross validation\n             \n        # Determine folds    \n#         X_train, X_test, y_train, y_test = train_test_split(data.data, data.target, test_size=train_test_p, random_state=np.random.randint(100))\n        X_train, X_test, y_train, y_test = train_test_split(X, y, test_size=train_test_p, random_state=np.random.randint(100))       \n        # Train classifier\n        clf = neighbors.KNeighborsClassifier(n_neighbors=k, weights=weights_in)\n        clf.fit(X_train, y_train)\n       \n        # Classify\n        pred_C = clf.predict(X_test)\n        true_C = y_test\n \n        # Generate conf mat\n        conf_mat = confusion_matrix(true_C, pred_C)\n        \n        # Compute & store accuracy\n        acc_score = accuracy_score(true_C, pred_C)\n        fold_acc_lst.append(acc_score)\n       \n    \n        # Report it\n        trace_to_file(trace_file, str(ii) + ' & ' + '{0:.3f}'.format(acc_score)) \n        \n    trace_to_file_EOL(trace_file, '')\n        \n    acc_lst.append(pd.Series(fold_acc_lst).mean())\n             \nacc_aver = pd.Series(acc_lst).mean()\n\n\n# Close table \ntrace_to_file_EOL(trace_file, '@@EndTab')\ntrace_to_file_EOL(trace_file, 'Average accuracy: ' + '{0:.3f}'.format(acc_score))  \n\n\n# Plot figures\nfig, ax = plt.subplots(figsize=(10,6))\nfig.suptitle(u'Accuracy')\nax.plot(k_lst, acc_lst)\nax.set_ylim([0.3, 0.8])\nplt.show()\nplt.savefig(abs_path + rel_path + 'Accuracy.pdf')\n     \n\n\n## Close trace files -------------------------------------------------------------------------------------------------\nif trace_Q:\n    trace_file.close()\n\n\n\n\n#<img src=\"https://raw.githubusercontent.com/andrejkk/ORvTK_SlidesImgs/master/footer_full.jpg\">",
      "execution_count": 1,
      "outputs": [
        {
          "name": "stderr",
          "output_type": "stream",
          "text": "/home/nbuser/anaconda2_501/lib/python2.7/site-packages/matplotlib/font_manager.py:279: UserWarning: Matplotlib is building the font cache using fc-list. This may take a moment.\n  'Matplotlib is building the font cache using fc-list. '\n"
        },
        {
          "data": {
            "image/png": "[encoded data removed]",
            "text/plain": "<matplotlib.figure.Figure at 0x7f9890868310>"
          },
          "metadata": {},
          "output_type": "display_data"
        },
        {
          "data": {
            "text/plain": "<matplotlib.figure.Figure at 0x7f988bd69dd0>"
          },
          "metadata": {},
          "output_type": "display_data"
        }
      ]
    },
    {
      "metadata": {
        "trusted": false
      },
      "cell_type": "code",
      "source": "",
      "execution_count": null,
      "outputs": []
    },
    {
      "metadata": {
        "slideshow": {
          "slide_type": "slide"
        }
      },
      "cell_type": "markdown",
      "source": "## On runExperiment.ext guidelines\n\n- the language: \n    - better interpreted language like python, matlab, TCL/TK, ...\n    - requirements: writing files, runnig OS commands, some string manipulation\n    \n\n- names with meaning\n    - vars, file names, ... with meaning: count_ind and not w3 -> additional cognitive load\n    - automatic file name generation with time stamps: yyyy-mm-dd-hh-mm-ss_ExperimentKeys\n    \n    \n- what is new and what is modified experiment?\n    - experimetal keys for good naming\n    - copy + modify -> **best time investment**\n\n\n<img src=\"https://raw.githubusercontent.com/andrejkk/ORvTK_SlidesImgs/master/footer_full.jpg\">"
    },
    {
      "metadata": {
        "slideshow": {
          "slide_type": "slide"
        }
      },
      "cell_type": "markdown",
      "source": "## Take away notes\n\n- script testing is a good \n    - traceability\n    - time investment\n    \n    \n    \n- think about the experimental design **before** you do anything (colecting data, ...)\n    - plan all data procedures in advance\n    - read 14 questions at https://en.wikipedia.org/wiki/Design_of_experiments\n    - discuss it with many people\n    \n    \n- in research: the terminology to transfer the responsibility of the interpretation to the reader    \n\n\n\n\n<img src=\"https://raw.githubusercontent.com/andrejkk/ORvTK_SlidesImgs/master/footer_full.jpg\">"
    },
    {
      "metadata": {
        "slideshow": {
          "slide_type": "slide"
        }
      },
      "cell_type": "markdown",
      "source": "# Apendix\n\n<img src=\"https://raw.githubusercontent.com/andrejkk/ORvTK_SlidesImgs/master/footer_full.jpg\">"
    },
    {
      "metadata": {
        "slideshow": {
          "slide_type": "slide"
        }
      },
      "cell_type": "markdown",
      "source": "## Statistical hypothese testing\n\n#### Problem: decide if the effect is a coincidence or not\n\n- When we need it: when there is a source of randomness in data: noised measurments, human behaviour  \n\n\n\n#### Solution: statistical significance testing\n\n- null hypotheses $H_0$: no effect\n- p-value\n$$ p = Pr[\\mbox{experimental data is this or more deviated from $H_0$}\\Big|_{H_0}] $$\n- risk level $\\alpha$: what you are prepared to believe? \n- conclussion: $p < \\alpha \\Rightarrow H_0 \\mbox{rejected}$. The **effect is significant**.\n- the matrix of errors\n\n\n- note on a significance\n\n\n- statistical test is a package of \n    - null hypotheses $H_0$\n    - formula to compute p value\n    - assumptions when it works\n    \n    \n- selection of the right test\n    - hierarchy of tests\n    - the most powerful that meets assumptions\n\n\n<img src=\"https://raw.githubusercontent.com/andrejkk/ORvTK_SlidesImgs/master/footer_full.jpg\">"
    },
    {
      "metadata": {
        "slideshow": {
          "slide_type": "slide"
        }
      },
      "cell_type": "markdown",
      "source": "## Finding the size of the sample for hypotheses: apriori power analysis\n\n- types of erros and their probability\n\n\n- effect size - specific for each testing\n    - for instance comparing means: \n    $$ \\frac{\\overline{x_1} - \\overline{x_2}}{\\sigma_{x_1, x_2}} $$\n\n\n- Cohen:\n    - small: $es < 0.2$\n    - medium: $0.2 \\leq es < 0.7$\n    - large: $0.7 \\leq es$\n    \n    \n- From test type and effect size you can get lower limit of your sample size $n_0$ \n    - Software GPower\n    \n    \n    \n<img src=\"https://raw.githubusercontent.com/andrejkk/ORvTK_SlidesImgs/master/footer_full.jpg\">"
    },
    {
      "metadata": {
        "slideshow": {
          "slide_type": "slide"
        }
      },
      "cell_type": "markdown",
      "source": "## Finding the size of the sample for parameter estimation: confidece intervals\n\n- the problem of parameter estimation\n\n\n- confidence interval\n$$ CI = [\\hat{\\overline{x}} - 1.96 \\frac{\\hat{\\sigma}}{\\sqrt{n}}, \n\\hat{\\overline{x}} + 1.96 \\frac{\\hat{\\sigma}}{\\sqrt{n}}] $$\n\n\n- determination of sample size\n\n<img src=\"https://raw.githubusercontent.com/andrejkk/ORvTK_SlidesImgs/master/footer_full.jpg\">"
    },
    {
      "metadata": {
        "slideshow": {
          "slide_type": "slide"
        }
      },
      "cell_type": "markdown",
      "source": "## \n\n<img src=\"https://raw.githubusercontent.com/andrejkk/ORvTK_SlidesImgs/master/footer_full.jpg\">"
    },
    {
      "metadata": {
        "trusted": false
      },
      "cell_type": "code",
      "source": "",
      "execution_count": null,
      "outputs": []
    }
  ],
  "metadata": {
    "celltoolbar": "Slideshow",
    "kernelspec": {
      "name": "python2",
      "display_name": "Python 2",
      "language": "python"
    },
    "language_info": {
      "mimetype": "text/x-python",
      "nbconvert_exporter": "python",
      "name": "python",
      "pygments_lexer": "ipython2",
      "version": "2.7.15",
      "file_extension": ".py",
      "codemirror_mode": {
        "version": 2,
        "name": "ipython"
      }
    }
  },
  "nbformat": 4,
  "nbformat_minor": 2
}