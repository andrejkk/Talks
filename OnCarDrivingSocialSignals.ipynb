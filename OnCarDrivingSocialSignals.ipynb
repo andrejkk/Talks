{
  "cells": [
    {
      "metadata": {
        "collapsed": true,
        "slideshow": {
          "slide_type": "subslide"
        }
      },
      "cell_type": "markdown",
      "source": "\n\n<img style=\"float: center; width: 80%\" src=\"https://raw.githubusercontent.com/andrejkk/TalksImgs/master/FrontSlideUpperBan.png\">\n<img style=\"float: center; width: 40%\" src=\"https://raw.githubusercontent.com/andrejkk/TalksImgs/master/logo_UL-ICT.png\">\n<p style=\"margin-bottom:6em;\"></p>\n\n\n\n<center>\n    <H1> On Car and Passenger Social Signals </H1>\n   \n    <H3> Why, how, can and can not do </H3>\n\n<br>\n    <H3> Andrej Košir, Lucami, FE </H4>\n    \n    <H4> Contact: prof. dr. Andrej Košir, andrej.kosir@lucami.fe.uni-lj.si, skype=akosir_sid </H4>\n</center>\n\n\n<p style=\"margin-bottom:12em;\"></p>\n<img src=\"https://raw.githubusercontent.com/andrejkk/ORvTK_SlidesImgs/master/footer_full.jpg\">"
    },
    {
      "metadata": {
        "slideshow": {
          "slide_type": "slide"
        }
      },
      "cell_type": "markdown",
      "source": "# Laboratorij Lucami FE\n\n\n<p style=\"margin-bottom:2cm;\"></p>\n<center><H1>Mission statement </H1></center>\n\n<p style=\"margin-bottom:2cm;\"></p>\n<div style=\"font-size:1.3em; line-height:1.4em; margin-left:1.2em\">\n\"...is focused on innovating user interaction to context-dependent communication applications and services. Across a wide span of applications, our central goal is to **improve the service brought to the end-user** in terms of her/his experience, satisfaction, efficiency and gain. Our interest is to bring a solution to the end-users that is adapted to real-world challenges.\"\n</div>\n\n<p style=\"margin-bottom:20em;\"></p>\n<img src=\"https://raw.githubusercontent.com/andrejkk/ORvTK_SlidesImgs/master/footer_full.jpg\">"
    },
    {
      "metadata": {
        "slideshow": {
          "slide_type": "slide"
        }
      },
      "cell_type": "markdown",
      "source": "# Selected research work\n\n\n<img style=\"float: center; width: 100%\" src=\"https://raw.githubusercontent.com/andrejkk/TalksImgs/master/SelectedResearchWork.png\">\n\n<img src=\"https://raw.githubusercontent.com/andrejkk/ORvTK_SlidesImgs/master/footer_full.jpg\">"
    },
    {
      "metadata": {
        "slideshow": {
          "slide_type": "slide"
        }
      },
      "cell_type": "markdown",
      "source": "# Selected industrial projects\n\n\n<p style=\"margin-bottom:1cm;\"></p>\n<div style=\"font-size:1.3em; line-height:1.4em; margin-left:1.2em\">\n1. Project on <b>non-intrusive user identification</b> from his behaviour using wide range of interaction data <br>\n2. Project on <b>user signature meter</b> focused on machine emotion modelling with application to micro-time user interaction analysis <br>\n3. Project on <b>socially intelligent learning application</b> with its own personality and emotions <br>\n</div>\n\n\n\n<p style=\"margin-bottom:2cm;\"></p>\n# Selected international colaborations\n\n<p style=\"margin-bottom:1cm;\"></p>\n<div style=\"font-size:1.3em; line-height:1.4em; margin-left:1.2em\">\n1. guest researcher at <b>North Carolina State University, USA</b> (numerical optimization and “anytime” algorithms) <br>\n2. Guest researcher at <b>University of Waterloo, Canada</b> (wavelet-fractal coding algorithm for digital images) <br>\n3. Guest researcher at <b>University of Westminster, London, UK</b> (optimization using genetic algorithms) <br>\n4. Collaboration on an international workshop organization and co-authorship of research papers <br>\n</div>\n\n\n<p style=\"margin-bottom:12em;\"></p>\n<img src=\"https://raw.githubusercontent.com/andrejkk/ORvTK_SlidesImgs/master/footer_full.jpg\">"
    },
    {
      "metadata": {
        "slideshow": {
          "slide_type": "slide"
        }
      },
      "cell_type": "markdown",
      "source": "# What are social signals? \n\n\n<img style=\"float: center; width: 50%\" src=\"https://raw.githubusercontent.com/andrejkk/TalksImgs/master/WhatAreSocialSignals.png\">\n\n\n<p style=\"margin-bottom:1cm;\"></p>\n\n\n<H2> Problem: <b>Cars are socially ignorant!</b> </H2>\n\n\n\n\n<p style=\"margin-bottom:10em;\"></p>\n<img src=\"https://raw.githubusercontent.com/andrejkk/ORvTK_SlidesImgs/master/footer_full.jpg\">"
    },
    {
      "metadata": {
        "slideshow": {
          "slide_type": "slide"
        }
      },
      "cell_type": "markdown",
      "source": "# Goals of social signal intelligence in the car \n\n\n<p style=\"margin-bottom:5em;\"></p>\n<div style=\"font-size:1.3em; line-height:2em; margin-left:1.2em\">\n1. Identifying <b>user/passenger status: tired, angry, hesitating,</b> ... <br>\n2. Smarter <b>notification systems</b>  <br> \n3. Socially intelligent <b>communication</b> to the user / driver  <br>\n4. <b>Driving styles</b> classification, identification <br>\n5. <b>Behaviour intervention</b> <br> \n6. Migitating the problem of <b>trust and adoption</b> <br>\n7. Safe <b>driving styles courses</b>  <br>\n... <br>\n</div>\n\n\n\n\n<p style=\"margin-bottom:16em;\"></p>\n<img src=\"https://raw.githubusercontent.com/andrejkk/ORvTK_SlidesImgs/master/footer_full.jpg\">"
    },
    {
      "metadata": {
        "slideshow": {
          "slide_type": "slide"
        }
      },
      "cell_type": "markdown",
      "source": "# Modeling is based on social signal elicitation\n\n<p style=\"margin-bottom:1cm;\"></p>\n\n\nWe build on:\n<div style=\"font-size:1.3em; line-height:1.4em; margin-left:1.2em\">\n1. Theory of computational models of emotions <br>\n2. Social signals of the user / driver: which are relevant? <br>\n3. Designing classes of social signals <br>\n4. The mechanism of emotion expression: when, which one, transitions <br>\n</div>\n\n\n<img style=\"float: center; width: 70%; margin-bottom:1cm; margin-right:1cm\" src=\"https://raw.githubusercontent.com/andrejkk/TalksImgs/master/SocialSignalElicitationLoopGeneric.png\">\n\n\n\n<p style=\"margin-bottom:0em;\"></p>\n<img src=\"https://raw.githubusercontent.com/andrejkk/ORvTK_SlidesImgs/master/footer_full.jpg\">"
    },
    {
      "metadata": {
        "slideshow": {
          "slide_type": "slide"
        }
      },
      "cell_type": "markdown",
      "source": "# How do we know it works?\n\n\n<p style=\"margin-bottom:1cm;\"></p>\n\n<div style=\"font-size:1.3em; line-height:1.4em; margin-left:1.2em\">\nA <b>sucess metrics</b> of the efficiency is a part of the project: <br>\n- existing success metrics <br>\n- sucess metrics <b>development</b> <br> \n\n<br><br>\nProper <b>experimental design</b> is the key. <br>\n</div>   \n\n<p style=\"margin-bottom:16em;\"></p>\n<img src=\"https://raw.githubusercontent.com/andrejkk/ORvTK_SlidesImgs/master/footer_full.jpg\">"
    },
    {
      "metadata": {
        "slideshow": {
          "slide_type": "slide"
        }
      },
      "cell_type": "markdown",
      "source": "# What we have done\n\n\n<p style=\"margin-bottom:2cm;\"></p>\n\n<center>\n<table style=\"width:100%; font-size:1.3em; align:center\" >\n  <tr>\n    <th>Hesitation aware recommender system</th>\n    <th>Socially inteligent typing tutor</th> \n    <th>Socialy signals aware Elderly advisory system</th>\n  </tr>\n  <tr>\n    <td><img style=\"float: center; width: 80%\" src=\"https://raw.githubusercontent.com/andrejkk/TalksImgs/master/SiaHesitationRecSys.png\"></td>\n    <td><img style=\"float: center; width: 80%\" src=\"https://raw.githubusercontent.com/andrejkk/TalksImgs/master/TypingTutorGUI2.png\"></td> \n    <td><img style=\"float: center; width: 80%\" src=\"https://raw.githubusercontent.com/andrejkk/TalksImgs/master/AmazonAlexaEchoElderly.jpg\"></td>\n  </tr>\n  <tr>\n    <td>Social signal hesitation can be used **to increase trust and adaption** of users</td>\n    <td>The application of social signals can **improve communication** and understandig of a user status</td> \n    <td>**Domain-specific sucess metrics** development is a key to sucess</td>\n  </tr>\n</table>\n</center>\n\n\n\n<p style=\"margin-bottom:8em;\"></p>\n<img src=\"https://raw.githubusercontent.com/andrejkk/ORvTK_SlidesImgs/master/footer_full.jpg\">"
    },
    {
      "metadata": {
        "slideshow": {
          "slide_type": "slide"
        }
      },
      "cell_type": "markdown",
      "source": "# What we can add\n\n<p style=\"margin-bottom:0cm;\"></p>\n\n\n<div style=\"font-size:1.3em; line-height:1.4em; margin-left:1.2em\">\n<br><br>\n<b>Social signal processing</b> <br>\n    - <b>Identifing</b> relevant social signals <br>\n    - Social signal processing: understanding social signals <br>\n    - building <b>models of social signals</b>  <br>\n\n<br><br>\n<b>Experimental designs and user studies</b> <br>\n\n\n<br><br>\n<b>Domain-speciffic evaluation metrics</b>\n\n<br><br>\n<b>Link to interdisciplinary domain knowledge:</b> <br>\n    - Psychology, gerontology, … <br>\n    - Human to media communication<br>\n\n<br><br>\nMathematical, machine and statistical modeling:<br> \n    - custom solutions,  <br>\n    - optimization <br>\n\n\n</div>\n\n\n\n\n<p style=\"margin-bottom:1cm;\"></p>\n<img src=\"https://raw.githubusercontent.com/andrejkk/ORvTK_SlidesImgs/master/footer_full.jpg\">"
    },
    {
      "metadata": {
        "slideshow": {
          "slide_type": "slide"
        }
      },
      "cell_type": "markdown",
      "source": "<center>\n<H1> Main messages </H1>\n</center>\n\n\n<p style=\"margin-bottom:1cm;\"></p>\n<div style=\"font-size:1.3em; line-height:1.4em; margin-left:1.2em\">\n<b>Social signals can help</b> with <br>\n- understanding users in real time <br>\n- to know his status, intention <br> \n- ... <br>\n\n<br>\nWe can <b>define, verify and model social signals</b> from available data <br><br>\n\n<br>\n<b>Experimental work in a living lab</b> is one of keys <br>\n- <b>Experimental desing</b> and implementation: relavant factor and their control <br>\n\n<br>\n<b>Domain-specific sucess metrics</b> is a key - its development must be integrated into the experimental work\n</div>\n\n\n<p style=\"margin-bottom:12em;\"></p>\n<img src=\"https://raw.githubusercontent.com/andrejkk/ORvTK_SlidesImgs/master/footer_full.jpg\">"
    },
    {
      "metadata": {
        "slideshow": {
          "slide_type": "slide"
        }
      },
      "cell_type": "markdown",
      "source": "# How we do it?\n\n<p style=\"margin-bottom:1cm;\"></p>\n\n\n\n\n<img style=\"float: center; width: 70%; margin-bottom:1cm; margin-right:1cm\" src=\"https://raw.githubusercontent.com/andrejkk/TalksImgs/master/HowWeDoIt.png\">\n\n\n\n<p style=\"margin-bottom:1cm;\"></p>\n<img src=\"https://raw.githubusercontent.com/andrejkk/ORvTK_SlidesImgs/master/footer_full.jpg\">"
    },
    {
      "metadata": {
        "slideshow": {
          "slide_type": "slide"
        }
      },
      "cell_type": "markdown",
      "source": "# Can social signals help?\n\n<p style=\"margin-bottom:1cm;\"></p>\n<H2>It can: </H2>\n\n\n[1] The Encyclopedia of Human-Computer Interaction: **And most action theories assume close links between actions, thoughts and emotions**\n\n[2] The experience of enchantment in human–computer interaction: **This combination of emotional attachment together with a\nsense of something not yet understood leaves us feeling disrupted but also alive, attentive,\nand curious.**\n\n[3] Riding an emotional roller-coaster A multimodal study of young child’s math problem solving activities: **Early exposure to this type of “hard fun” may stimulate child’s interest and curiosity of mathematics and nurture life long skills such as resilience and perseverance.**\n\n[4] Emotional Engagement for Human-Computer Interaction in Exhibition Design: **Besides, emotional engagement, which could evoke memory, feelings and cognition, could be an important method for HCI in exhibition design**\n\n[5] Understanding Affective Interaction: Emotion, Engagement, and Internet Videos: **...research agenda has branched to\ninclude emotional theory [11], the examination of significance of emotion in HCI [20, 31], application interfaces [4, 42, 36, 16, 17, 38], modeling and sensing emotions [1, 25, 40] measuring and evaluating affect [12, 41, 2, 7, 23, 21, 22] and ethical issues [33, 34, 19].**\n\n\n\n<p style=\"margin-bottom:16em;\"></p>\n<img src=\"https://raw.githubusercontent.com/andrejkk/ORvTK_SlidesImgs/master/footer_full.jpg\">"
    },
    {
      "metadata": {
        "slideshow": {
          "slide_type": "slide"
        }
      },
      "cell_type": "markdown",
      "source": "# Basic reasoning\n\n<p style=\"margin-bottom:1cm;\"></p>\n\n\n\n\n<img style=\"float: center; width: 80%; margin-bottom:1cm; margin-right:1cm\" src=\"https://raw.githubusercontent.com/andrejkk/TalksImgs/master/BasicReasoning.png\">\n\n\n\n<p style=\"margin-bottom:1cm;\"></p>\n<img src=\"https://raw.githubusercontent.com/andrejkk/ORvTK_SlidesImgs/master/footer_full.jpg\">"
    },
    {
      "metadata": {
        "slideshow": {
          "slide_type": "slide"
        }
      },
      "cell_type": "markdown",
      "source": "# What are relevant social signals-related mechanisms?\n\n\n<div style=\"font-size:16pt; line-height:16pt\">\n1. Emotions engage <br>\n2. Positive reinforcement assumption <br>\n    - What is positive action? <br>\n    - What is reward? <br>\n3. Behaviour intervention\n</div>\n\n<img style=\"float: center; width: 40%\" src=\"https://raw.githubusercontent.com/andrejkk/TalksImgs/master/PositiveReinforcementGraph.png\">\n\n\n[7] Stephanie Glover: What Is 'Negative Reinforcement'? Definition and Real-World Examples. \n\n<p style=\"margin-bottom:2cm;\"></p>\n<img src=\"https://raw.githubusercontent.com/andrejkk/ORvTK_SlidesImgs/master/footer_full.jpg\">"
    },
    {
      "metadata": {
        "slideshow": {
          "slide_type": "slide"
        }
      },
      "cell_type": "markdown",
      "source": "# What we have done: Hesitation aware recommender system\n\n\n<p style=\"margin-bottom:2cm;\"></p>\n\n\n\n<img style=\"float: center; width: 50%\" src=\"https://raw.githubusercontent.com/andrejkk/TalksImgs/master/SiaHesitationRecSys.png\">\n\n\n## Potential: Social signal hesitation can be used to increase trust and adaption of users\n\n<p style=\"margin-bottom:2cm;\"></p>\n<img src=\"https://raw.githubusercontent.com/andrejkk/ORvTK_SlidesImgs/master/footer_full.jpg\">"
    },
    {
      "metadata": {
        "slideshow": {
          "slide_type": "slide"
        }
      },
      "cell_type": "markdown",
      "source": "# What we have done: Socially inteligent typing tutor\n\n<p style=\"margin-bottom:1.5cm;\"></p>\n<img style=\"float: center; width: 40%\" src=\"https://raw.githubusercontent.com/andrejkk/TalksImgs/master/TypingTutorGUI2.png\">\n\n\n## Potenial: the application of social signals can improve communication and understandig of a user status\n\n\n<p style=\"margin-bottom:2cm;\"></p>\n<img src=\"https://raw.githubusercontent.com/andrejkk/ORvTK_SlidesImgs/master/footer_full.jpg\">"
    },
    {
      "metadata": {
        "slideshow": {
          "slide_type": "slide"
        }
      },
      "cell_type": "markdown",
      "source": "# What we have done: Socialy signals aware Elderly advisory system\n\n\n\n<p style=\"margin-bottom:1cm;\"></p>\n<img style=\"float: center; width: 40%\" src=\"https://raw.githubusercontent.com/andrejkk/TalksImgs/master/AmazonAlexaEchoElderly.jpg\">\n\n## Potential: Domain specific sucess metrics development is a key to sucess\n\n\n<p style=\"margin-bottom:2cm;\"></p>\n<img src=\"https://raw.githubusercontent.com/andrejkk/ORvTK_SlidesImgs/master/footer_full.jpg\">"
    },
    {
      "metadata": {
        "slideshow": {
          "slide_type": "slide"
        }
      },
      "cell_type": "markdown",
      "source": "# What these social signals are dependent on - input data\n\n\nData sources - current emotion is depednet on \n- a sequence of user events (button cliks, ...)\n- local device sensors: noise, movement, proximity\n- IoT: weather, time of the day, ...\n\n\n\nWe are aware of restriction on user data.\n\n\n<p style=\"margin-bottom:8cm;\"></p>\n<img src=\"https://raw.githubusercontent.com/andrejkk/ORvTK_SlidesImgs/master/footer_full.jpg\">"
    },
    {
      "metadata": {
        "trusted": false
      },
      "cell_type": "code",
      "source": "",
      "execution_count": null,
      "outputs": []
    }
  ],
  "metadata": {
    "celltoolbar": "Slideshow",
    "kernelspec": {
      "name": "python2",
      "display_name": "Python 2",
      "language": "python"
    },
    "language_info": {
      "mimetype": "text/x-python",
      "nbconvert_exporter": "python",
      "name": "python",
      "pygments_lexer": "ipython2",
      "version": "2.7.15",
      "file_extension": ".py",
      "codemirror_mode": {
        "version": 2,
        "name": "ipython"
      }
    }
  },
  "nbformat": 4,
  "nbformat_minor": 2
}