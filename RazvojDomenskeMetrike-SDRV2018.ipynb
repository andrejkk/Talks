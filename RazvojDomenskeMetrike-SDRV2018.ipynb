{
 "cells": [
  {
   "cell_type": "markdown",
   "metadata": {
    "collapsed": true,
    "slideshow": {
     "slide_type": "slide"
    }
   },
   "source": [
    "\n",
    "<center>\n",
    "    <H1> Razoj domenske metrike v strojnem učenju</H1>\n",
    "   \n",
    "    <H3> Razvoj metrike, ki upošteva učinke v realnem svetu </H3>\n",
    "\n",
    "<br>\n",
    "    <H3> Andrej Košir, Lucami, FE </H4>\n",
    "</center>\n",
    "\n",
    "\n",
    "<p style=\"margin-bottom:2cm;\"></p>\n",
    "<img src=\"https://raw.githubusercontent.com/andrejkk/ORvTK_SlidesImgs/master/footer_full.jpg\">"
   ]
  },
  {
   "cell_type": "markdown",
   "metadata": {
    "slideshow": {
     "slide_type": "slide"
    }
   },
   "source": [
    "## Laboratorij Lucami FE\n",
    "\n",
    "<center><H1>Poslanstvo</H1></center>\n",
    "\n",
    "\"...is focused on innovating user interaction to context-dependent communication applications and services. Across a wide span of applications, our central goal is to **improve the service brought to the end-user** in terms of her/his experience, satisfaction, efficiency and gain. Our interest is to bring a solution to the end-users that is adapted to real-world challenges.\"\n",
    "\n",
    "<p style=\"margin-bottom:2cm;\"></p>\n",
    "<img src=\"https://raw.githubusercontent.com/andrejkk/ORvTK_SlidesImgs/master/footer_full.jpg\">"
   ]
  },
  {
   "cell_type": "markdown",
   "metadata": {
    "slideshow": {
     "slide_type": "slide"
    }
   },
   "source": [
    "## Trenutni raziskovalni projekti\n",
    "\n",
    "Kot uvod v temo predavanja na kratko predstavljam nekatere projekte, se katerimi se ukvarjamo. \n"
   ]
  },
  {
   "cell_type": "markdown",
   "metadata": {
    "slideshow": {
     "slide_type": "subslide"
    }
   },
   "source": [
    "### Nenadzorovana razpoznava person na podlagi klikotoka\n",
    "\n",
    "**Cilj:** Razpoznava person brez pravih vrednosti po gospodinjstvih. \n",
    "\n",
    "\n",
    "**Izziv:** Kako določati šibke prave vrednosti?\n",
    "\n",
    "\n"
   ]
  },
  {
   "cell_type": "markdown",
   "metadata": {
    "slideshow": {
     "slide_type": "subslide"
    }
   },
   "source": [
    "### Merjenje pozornosti študentov\n",
    "\n",
    "**Cilj:** Avtomatizirano merjenje pozornosti študentov na podlagi kamere in kinekta.\n",
    "\n",
    "\n",
    "**Izziv:** Kako določiti prave vrednosti pozornosti študenta?\n",
    "\n",
    "\n"
   ]
  },
  {
   "cell_type": "markdown",
   "metadata": {
    "slideshow": {
     "slide_type": "subslide"
    }
   },
   "source": [
    "### Izločanje pristranskosti ocenjevalcev pri anotaciji\n",
    "\n",
    "**Cilj:** Avtomatsko izločanje pristranskosti ocenjevalcev, ki so posledica različih skal.\n",
    "\n",
    "\n",
    "**Izziv:** Kaj so dovoljene transformacije, ki ne uničujejo koristne informacije?\n"
   ]
  },
  {
   "cell_type": "markdown",
   "metadata": {
    "slideshow": {
     "slide_type": "subslide"
    }
   },
   "source": [
    "### Kako splošen je model pozornosti uporabnika?\n",
    "\n",
    "\n",
    "**Cilj:** Splošno uporabna formulacija \"splošnosti\" naučenega modela pozornosti.\n",
    "\n",
    "\n",
    "**Izziv:** Določitev kvantificirane mere splošnosti. \n"
   ]
  },
  {
   "cell_type": "markdown",
   "metadata": {
    "slideshow": {
     "slide_type": "subslide"
    }
   },
   "source": [
    "### Svetovalni sistem na osnovi Amazon Alexa Echo\n",
    "\n",
    "\n",
    "**Cilj:** Obvladovanje tehnologije v smislu upoštevanja konteksta (vremena, ...) in socialnih signalov (hitenje, ...).\n",
    "\n",
    "\n",
    "**Izziv:** Merjenje uspešnosti dvogovora, implementacija rešitev, podpora Slovenskemu jeziku. \n",
    "\n"
   ]
  },
  {
   "cell_type": "markdown",
   "metadata": {
    "slideshow": {
     "slide_type": "subslide"
    }
   },
   "source": [
    "### Doktorat Evin Aslan Oguz: Multimedia exposure meter (metrics, scale)\n",
    "\n",
    "**Cilj:** definicija metrike (skale), ki meri izbrane učinke multimedijske vsebine na gledalca z namenom merjenja učinkov (oglasnih) sporočil. \n",
    "\n",
    "**Izziv:** Kako tako metriko sploh definirati? Kaj je merljivo? \n",
    "\n",
    "**Financer:** Nielsen, ki se ukvarja z merjenjem oglasnih prostorov. "
   ]
  },
  {
   "cell_type": "markdown",
   "metadata": {
    "slideshow": {
     "slide_type": "subslide"
    }
   },
   "source": [
    "### Dokorat Katarina Gašperlin: Priporočilni sistem z domensko metriko uspešnosti\n",
    "\n",
    "**Cilj:** priporočilni sistem za dnevne aktivnosti starejših, ki upošteva **domensko metriko** - ki je optimiziran glede na realne učinke na zdravo staranje. \n",
    "\n",
    "**Izziv:** Model za zdravo staranje, ki ga lahko uporabimo pri optimizaciji priporočilnega sistema. Kako izdelati metriko za zdravo staranje? \n",
    "\n",
    "\n",
    "\n",
    "<img src=\"https://raw.githubusercontent.com/andrejkk/ORvTK_SlidesImgs/master/footer_full.jpg\">"
   ]
  },
  {
   "cell_type": "markdown",
   "metadata": {
    "slideshow": {
     "slide_type": "slide"
    }
   },
   "source": [
    "<br>\n",
    "<br>\n",
    "**Raziskovalno vprašanje** \n",
    "\n",
    "<center>\n",
    " <H3>Ali domenska metrika priporočilnega sistema da boljše rezultate <br> kot klasične mere (npr. RMSE)? </H3>\n",
    "</center>\n",
    "\n",
    "\n",
    "<img style=\"float: right; width: 70%\" src=\"https://raw.githubusercontent.com/andrejkk/ORvTK_SlidesImgs/master/MosVsObjective.png\">\n",
    "\n",
    "<br>\n",
    "<font size=\"5\">\n",
    "[_vir: Alexiou et. al., Towards Subjective Quality Assessment of Point\n",
    "Cloud Imaging in Augmented Reality, 19th International Workshop on Multimedia Signal Processing (MMSP), 2017_]\n",
    "</font>\n",
    "\n",
    "<p style=\"margin-bottom:2cm;\"></p>\n",
    "<img src=\"https://raw.githubusercontent.com/andrejkk/ORvTK_SlidesImgs/master/footer_full.jpg\">"
   ]
  },
  {
   "cell_type": "markdown",
   "metadata": {
    "slideshow": {
     "slide_type": "slide"
    }
   },
   "source": [
    "## Cilj predavanja: \n",
    "\n",
    "<br>\n",
    "<center><H2>\n",
    "1. Odpreti razpravo ali ima smisel graditi modele domenskih metrik v strojnem učenju? <br><br>\n",
    "2. Postopek gradnje domenske metrike kot kriterijske funkcije v strojnem učenju\n",
    "</H2></center>\n",
    "\n",
    "\n",
    "#### Uvod \n",
    "\n",
    "Začetek: gradnja modela oklevanja: psihologi nimajo definicije, imajo pa postopek kako ga določiti. \n",
    "Problem: kako jo zgraditi in preveriti, da **dobro meri**.\n",
    "\n",
    "\n",
    "Primer tega predavanja: metrika zdravega staranja in neodvisnega bivanja.\n",
    "\n",
    "<p style=\"margin-bottom:1cm;\"></p>\n",
    "<img src=\"https://raw.githubusercontent.com/andrejkk/ORvTK_SlidesImgs/master/footer_full.jpg\">"
   ]
  },
  {
   "cell_type": "markdown",
   "metadata": {
    "slideshow": {
     "slide_type": "subslide"
    }
   },
   "source": [
    "#### Kaj je psihološki konstrukt - metrika?\n",
    "- merilni instrument + enačba da določitev vrednosti na podlagi vprašalnika \n"
   ]
  },
  {
   "cell_type": "markdown",
   "metadata": {
    "slideshow": {
     "slide_type": "subslide"
    }
   },
   "source": [
    "#### Koraki gradnje metrike na podlagi konstrukta (angl. scale)\n",
    "\n",
    "\n",
    "Opomba: to ni metrika v smislu matematične metrike $d:X\\times X\\to R_+^+$ (imetričnost, trikotniška neenakost). Iz same konstrukcije metrike lahko trdimo le, da je \"dobro korelirano s pravimi vrednostmi\", to je\n",
    "- višja vrednost pomeni več\n",
    "- ima znano pojasnjeno varianco glede na izhodiščni instrumentarij. Če je razpršenost izhodiščnega instrumentarija znana (standardni odklon komponente / skale), to pomeni, da lahko ocenimo interval zaupanja dobljene metrike;\n",
    "- ne moremo trdit, da je skala linearna, to je da skok $\\Delta s$ v okolici $s_1$ pomeni enak skok kot v okolici $s_2$;\n",
    "\n",
    "<br>\n",
    "<img src=\"https://raw.githubusercontent.com/andrejkk/ORvTK_SlidesImgs/master/footer_full.jpg\">"
   ]
  },
  {
   "cell_type": "markdown",
   "metadata": {
    "slideshow": {
     "slide_type": "slide"
    }
   },
   "source": [
    "## Kako smo začeli z metrikami: model oklevanja, model pozornosti\n",
    "    \n",
    "<br><br><br>\n",
    "<img style=\"float: right; width: 60%\" src=\"https://raw.githubusercontent.com/andrejkk/ORvTK_SlidesImgs/master/Hesitation_ConfMat.png\">\n",
    "   \n",
    "    \n",
    "\n",
    "<font size=\"5\">   \n",
    "[_vir: Vodlan, Tkalčič, Košir: The impact of hesitation, a social signal, on a user’s quality\n",
    "of experience in multimedia content retrieval, Multimedia tools and applicationsm, 2014_]\n",
    "</font>\n",
    "\n",
    "<p style=\"margin-bottom:2cm;\"></p>\n",
    "<img src=\"https://raw.githubusercontent.com/andrejkk/ORvTK_SlidesImgs/master/footer_full.jpg\">"
   ]
  },
  {
   "cell_type": "markdown",
   "metadata": {
    "slideshow": {
     "slide_type": "slide"
    }
   },
   "source": [
    "## Kaj je psihološki konstrukt?\n",
    "\n",
    "\n",
    "Primer konstrukta za merjenje kvalitete dvogovora: vprašalnik, enačba (uteži) za preračun odgovorov v oceno vrednosti metrike\n",
    "\n",
    "Dobljene \"dimenzije\":<p>\n",
    "<center>\n",
    "UGO = User Goal Orientation, CSB = Customer Service Behaviors, SC = Speech Characteristics, V = Verbosity\n",
    "</center>\n",
    "\n",
    "<img style=\"float: right; width: 80%\" src=\"https://raw.githubusercontent.com/andrejkk/ORvTK_SlidesImgs/master/SpeechQ_Factors_Part.png\">\n",
    "\n",
    "<font size=\"5\">\n",
    "[_Vir: Lewis et. al, Investigating the psychometric properties of the Speech User\n",
    "Interface Service Quality questionnaire, Int J Speech Technol (2015) 18:479–487_]\n",
    "</font>\n",
    "\n",
    "<img src=\"https://raw.githubusercontent.com/andrejkk/ORvTK_SlidesImgs/master/footer_full.jpg\">"
   ]
  },
  {
   "cell_type": "markdown",
   "metadata": {
    "slideshow": {
     "slide_type": "slide"
    }
   },
   "source": [
    "## Koraki gradnje metrike: primer metrike zdravega staranja\n",
    "\n",
    "\n",
    "### Podatki: podatki raziskave Inštituta IAT za gerontologijo\n",
    "\n",
    "1. Natančno opredeljeni raziskovalni cilji in razvoj vprašalnika\n",
    "2. Velikosti: \n",
    "    - števil oseb $n=1047$\n",
    "    - število podatkov na osebo: $m\\sim 700$\n",
    "3. Monografija za analizo rezultatov: natančno znani okvirji     \n",
    "    \n",
    "\n",
    "<p style=\"margin-bottom:2cm;\"></p>\n",
    "<img src=\"https://raw.githubusercontent.com/andrejkk/ORvTK_SlidesImgs/master/footer_full.jpg\">"
   ]
  },
  {
   "cell_type": "markdown",
   "metadata": {
    "slideshow": {
     "slide_type": "slide"
    }
   },
   "source": [
    "<center><H1> 1. Definicija / opis / lastnosti </H1></center>\n",
    "\n",
    "<br>\n",
    "- znane lastnosti - vidni vedenjski znaki (npr. hitro premakne roko) ali merjenji znaki (npr. velikost zenice)\n",
    "- sestavimo \n",
    "\n",
    "<center><H2>Oprativno definicijo </H2></center>\n",
    "\n",
    "<br>\n",
    "To je seznam lastnosti, ki jih želimo, da jih metrika ima:\n",
    "- Odraža subjektivni občutek zdravja\n",
    "- Pozitivno korelirana z znanimi merami zdravja\n",
    "- Ni korelirana z materialnimi sposobnostmi\n",
    "- ....\n"
   ]
  },
  {
   "cell_type": "markdown",
   "metadata": {
    "slideshow": {
     "slide_type": "subslide"
    }
   },
   "source": [
    "<center><H3> Potrebujemo domenske strokovnjake </H3></center>\n",
    "\n",
    "\n",
    "Tu je to Inštitut Antona Terstenjaka.\n",
    "\n",
    "<center><H2> Zajem podatkov: vprašalnik </H2></center>\n",
    "- oblikovanje prve verzije vprašanj\n",
    "- več iteracij izboljšanj (sledi v faktorski analizi)\n",
    "\n",
    "\n",
    "\n",
    "<p style=\"margin-bottom:0.5cm;\"></p>\n",
    "<img src=\"https://raw.githubusercontent.com/andrejkk/ORvTK_SlidesImgs/master/footer_full.jpg\">"
   ]
  },
  {
   "cell_type": "markdown",
   "metadata": {
    "slideshow": {
     "slide_type": "slide"
    }
   },
   "source": [
    "<center><H1> 2. Načrt in implementacija poskusa </H1></center>\n",
    "\n",
    "\n",
    "<br><br>\n",
    "(1.) Načrtovanje poskusa\n",
    " - faktorji\n",
    " - metrika\n",
    " - izvedljivost?\n",
    "\n",
    "\n",
    "(2.) Implementacija: \n",
    "- testne osebe\n",
    "- tehnična postavitev ...\n",
    "\n",
    "\n",
    "\n",
    "<p style=\"margin-bottom:0.5cm;\"></p>\n",
    "<img src=\"https://raw.githubusercontent.com/andrejkk/ORvTK_SlidesImgs/master/footer_full.jpg\">"
   ]
  },
  {
   "cell_type": "markdown",
   "metadata": {
    "slideshow": {
     "slide_type": "slide"
    }
   },
   "source": [
    "<center><H1> 3. Faktorska analiza </H1></center>\n",
    "- dimenzija konstrukta\n",
    "- faktorji so kandidati za (pod)metrike\n",
    "- faktorji so kandidati za anotatorske podatke\n",
    "\n",
    "\n",
    "\n",
    "| Domain            | Number of all components |Number of returned components |\n",
    "|-------------------|--------------------------|------------------------------|\n",
    "| Context           | 70                       |20                            |\n",
    "| Health            | 63                       |20                            |\n",
    "| Independent Living| 14                       |3                             |\n",
    "| Activities        | 8                        |3                             |\n",
    "\n",
    "\n",
    "<br>\n",
    "**Dva koraka**\n",
    "1. Redukcija dimenzije, izločanja vprašanj (angl. Initial item reduction)\n",
    "2. Potrjevalna (konfirmativna) faktorska analiza (angl. Confirmatory factor analysis)\n",
    "\n",
    "<p style=\"margin-bottom:0.5cm;\"></p>\n",
    "<img src=\"https://raw.githubusercontent.com/andrejkk/ORvTK_SlidesImgs/master/footer_full.jpg\">"
   ]
  },
  {
   "cell_type": "markdown",
   "metadata": {
    "slideshow": {
     "slide_type": "subslide"
    }
   },
   "source": [
    "\n",
    "- pojasnjene variance\n",
    "<img style=\"float: center; width: 100%\" src=\"https://raw.githubusercontent.com/andrejkk/ORvTK_SlidesImgs/master/IndependentLivingLambdas.jpg\">\n",
    "\n",
    "\n"
   ]
  },
  {
   "cell_type": "markdown",
   "metadata": {
    "slideshow": {
     "slide_type": "subslide"
    }
   },
   "source": [
    "\n",
    "\n",
    "- faktorska struktura\n",
    "<img style=\"float: center; width: 100%\" src=\"https://raw.githubusercontent.com/andrejkk/ORvTK_SlidesImgs/master/IndependentLivingFactorMat.jpg\">\n",
    "\n",
    "\n",
    "\n",
    "<p style=\"margin-bottom:2cm;\"></p>\n",
    "<img src=\"https://raw.githubusercontent.com/andrejkk/ORvTK_SlidesImgs/master/footer_full.jpg\">"
   ]
  },
  {
   "cell_type": "markdown",
   "metadata": {
    "slideshow": {
     "slide_type": "slide"
    }
   },
   "source": [
    "<center><H1> 4. Načrt in implementacija anotatorja </H1></center>\n",
    "\n",
    "- Vodila pri načrtobanju anotatorja\n",
    "    - dobra definicija metrike: dovolj podatkov na zaslonu\n",
    "    - kognitivne zmožosti anotatorja\n",
    "- katere podatke dodamo na anotacijsko stran? \n",
    "- implementacija: spletna aplikacija\n",
    "\n",
    "\n",
    "<img style=\"float: right; width: 55%\" src=\"https://raw.githubusercontent.com/andrejkk/ORvTK_SlidesImgs/master/AnnotationGUI2.jpg\">\n",
    "\n",
    "<p style=\"margin-bottom:2cm;\"></p>\n",
    "<img src=\"https://raw.githubusercontent.com/andrejkk/ORvTK_SlidesImgs/master/footer_full.jpg\">"
   ]
  },
  {
   "cell_type": "markdown",
   "metadata": {
    "slideshow": {
     "slide_type": "slide"
    }
   },
   "source": [
    "<center><H1> 5. Ali je anotacija uspela? Določitev pravih vrednosti. </H1></center>\n",
    "\n",
    "<br><br>\n",
    " - dololočimo 3 - 5 ocenjevalcev in izvedemo ocenjevanje\n",
    " - **skladnosti** ocenjevalcev je **POTREBEN POGOJ** za uspešnost\n",
    "     - Obstaja več mer za merjenje skladnosti: inter-class correlation, ...\n",
    "     \n",
    "     "
   ]
  },
  {
   "cell_type": "markdown",
   "metadata": {
    "slideshow": {
     "slide_type": "subslide"
    }
   },
   "source": [
    "<br>\n",
    "- določanje pravih vrednosti: **veljavno za dovolj skladne anotatorje**\n",
    "     - odrezano povprečje (angl. truncated mean)\n",
    "\n",
    "<p style=\"margin-bottom:1cm;\"></p>\n",
    "<img src=\"https://raw.githubusercontent.com/andrejkk/ORvTK_SlidesImgs/master/footer_full.jpg\">"
   ]
  },
  {
   "cell_type": "markdown",
   "metadata": {
    "slideshow": {
     "slide_type": "slide"
    }
   },
   "source": [
    "<center><H1> 6. Ali je metrika dobro definirana - merske karakteristike? </H1></center>\n",
    "\n",
    "\n",
    "<br>\n",
    "**Koraki:**\n",
    "1. Ekološka veljavnost - ali meri, kar sem želel, da meri: ni enačb, navadno ocena (anotacija?) strokovnjakov\n",
    "2. Zanesljivost metrike: test-retest, Crombach $\\alpha$\n",
    "3. Konvergentna veljavnost: **visoka pozitivna** korelacija s konstrukti, ki **morajo biti povezani**\n",
    "4. Divergentna veljavnost: **nizka** s konstrukti, ki **ne smejo biti povezavni**\n",
    "\n",
    "\n",
    "<br>\n",
    "<font size=\"5\">\n",
    "[_vir: Hinkin T. R, A Brief Tutorial on the Development of Measures\n",
    "for Use in Survey Questionnaires, Cornell University, School of Hotel Administration, 1998._]\n",
    "</font>\n",
    "\n",
    "\n",
    "\n",
    "<p style=\"margin-bottom:0.5cm;\"></p>\n",
    "<img src=\"https://raw.githubusercontent.com/andrejkk/ORvTK_SlidesImgs/master/footer_full.jpg\">"
   ]
  },
  {
   "cell_type": "markdown",
   "metadata": {
    "slideshow": {
     "slide_type": "slide"
    }
   },
   "source": [
    "<center><H1> 7. Kako dobro se dobljena metrika da modelirat na podlagi meritev</H1></center>\n",
    "\n",
    "\n",
    "<br>\n",
    "- Klasični instrumentaqriji so vprašalniki - neuporabno za odločanje v realnem času\n",
    "\n",
    "<center><H2>Kako metriko prestaviti v realni čas?</H2></center>\n",
    "\n",
    "<br>\n",
    "**Koraki**\n",
    "1. Dinamika spreminjanja odgovora na izbrano vprašanja - spekter?\n",
    "2. Dinamiko spreminjanja odgovorov na vprašanja delimo na dva dela\n",
    "    - hitro: modeliranje na podlagi senzorike\n",
    "    - počasi: enkrat vprašamo uporabnika\n",
    "3. Izbor modelov (strojno učenje in statistika)\n",
    "    - **dilema**: klasifikacija ali regresija? Tehnologiji je dovolj klasifikacija (ne, da) ali (ne, srednje, da)\n",
    "    - klasične mere uspešnosti?\n",
    "\n",
    "\n",
    "\n",
    "<p style=\"margin-bottom:0.5cm;\"></p>\n",
    "<img src=\"https://raw.githubusercontent.com/andrejkk/ORvTK_SlidesImgs/master/footer_full.jpg\">"
   ]
  },
  {
   "cell_type": "markdown",
   "metadata": {
    "slideshow": {
     "slide_type": "slide"
    }
   },
   "source": [
    "## Razprava, zaključki\n",
    "\n",
    "\n",
    "- Ali je to pravi pristop?\n",
    "- Ali je smiseln - ali bo to prineslo omembe vredno izboljšanje priporočilnega sistema v primerjavi z uporabo RMSE?\n",
    "- Problem reprezentativne testne množice in zapletenosti faktorjev:\n",
    "    * konteksti (situacije)\n",
    "    * osebnost testne osebe\n",
    "    * ...\n",
    "\n",
    "\n",
    "<br>\n",
    "### Zahvale\n",
    "\n",
    "\n",
    "<center><H4>\n",
    "Jože Ramovš, Institut Antona Trstenjaka za gerontologijo <br> <br>\n",
    "Katarina Gašperlin, IBM\n",
    "</H4></center>\n",
    "\n",
    "<p style=\"margin-bottom:0.5cm;\"></p>\n",
    "<img src=\"https://raw.githubusercontent.com/andrejkk/ORvTK_SlidesImgs/master/footer_full.jpg\">"
   ]
  }
 ],
 "metadata": {
  "celltoolbar": "Slideshow",
  "kernelspec": {
   "display_name": "Python 2",
   "language": "python",
   "name": "python2"
  },
  "language_info": {
   "codemirror_mode": {
    "name": "ipython",
    "version": 2
   },
   "file_extension": ".py",
   "mimetype": "text/x-python",
   "name": "python",
   "nbconvert_exporter": "python",
   "pygments_lexer": "ipython2",
   "version": "2.7.14"
  }
 },
 "nbformat": 4,
 "nbformat_minor": 2
}
