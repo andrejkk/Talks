{
 "cells": [
  {
   "cell_type": "markdown",
   "metadata": {
    "collapsed": true,
    "slideshow": {
     "slide_type": "subslide"
    }
   },
   "source": [
    "\n",
    "\n",
    "<img style=\"float: center; width: 100%\" src=\"https://raw.githubusercontent.com/andrejkk/TalksImgs/master/FrontSlideUpperBan.png\">\n",
    "<p style=\"margin-bottom:2cm;\"></p>\n",
    "\n",
    "<center>\n",
    "    <H1> On Talking Tom Emotions </H1>\n",
    "   \n",
    "    <H3> Why, how, can and can not do </H3>\n",
    "\n",
    "<br>\n",
    "    <H3> Andrej Košir, Lucami, FE </H4>\n",
    "    \n",
    "    <H4> Contact: prof. dr. Andrej Košir, andrej.kosir@lucami.fe.uni-lj.si, skype=akosir_sid </H4>\n",
    "</center>\n",
    "\n",
    "\n",
    "<p style=\"margin-bottom:2cm;\"></p>\n",
    "<img src=\"https://raw.githubusercontent.com/andrejkk/ORvTK_SlidesImgs/master/footer_full.jpg\">"
   ]
  },
  {
   "cell_type": "markdown",
   "metadata": {
    "slideshow": {
     "slide_type": "slide"
    }
   },
   "source": [
    "# Laboratorij Lucami FE\n",
    "\n",
    "\n",
    "<p style=\"margin-bottom:2cm;\"></p>\n",
    "<center><H1>Mission statement </H1></center>\n",
    "\n",
    "\n",
    "\"...is focused on innovating user interaction to context-dependent communication applications and services. Across a wide span of applications, our central goal is to **improve the service brought to the end-user** in terms of her/his experience, satisfaction, efficiency and gain. Our interest is to bring a solution to the end-users that is adapted to real-world challenges.\"\n",
    "\n",
    "<p style=\"margin-bottom:2cm;\"></p>\n",
    "<img src=\"https://raw.githubusercontent.com/andrejkk/ORvTK_SlidesImgs/master/footer_full.jpg\">"
   ]
  },
  {
   "cell_type": "markdown",
   "metadata": {
    "slideshow": {
     "slide_type": "slide"
    }
   },
   "source": [
    "# Selected research work\n",
    "\n",
    "\n",
    "<img style=\"float: center; width: 100%\" src=\"https://raw.githubusercontent.com/andrejkk/TalksImgs/master/SelectedResearchWork.png\">\n",
    "\n",
    "<img src=\"https://raw.githubusercontent.com/andrejkk/ORvTK_SlidesImgs/master/footer_full.jpg\">"
   ]
  },
  {
   "cell_type": "markdown",
   "metadata": {
    "slideshow": {
     "slide_type": "slide"
    }
   },
   "source": [
    "# Project goal\n",
    "\n",
    "\n",
    "<p style=\"margin-bottom:2cm;\"></p>\n",
    "<center>\n",
    "    <H2> Adding emotions to Talking Tom  </H2>\n",
    "</center>\n",
    "\n",
    "<p style=\"margin-bottom:2cm;\"></p>\n",
    "\n",
    "<H4> in order to </H4>\n",
    "\n",
    "<p style=\"margin-bottom:2cm;\"></p>\n",
    "\n",
    "\n",
    "<H3 style=\"margin-left:2cm;\">\n",
    "Increase your sales? Gain more customers?<br>\n",
    "  <br><br>\n",
    "Increasing user satisfaction results in <br>\n",
    "1. increased engagement <br>\n",
    "2. increased retention <br>\n",
    "3. increased monetisation <br>\n",
    "... <br>\n",
    "</H3>\n",
    "\n",
    "<br>\n",
    "<br>\n",
    "<H2 style=\"margin-left:2cm;\">\n",
    "Developing sucess metrics is a part of the project.\n",
    "<br>\n",
    "</H2>\n",
    "\n",
    "\n",
    "\n",
    "<p style=\"margin-bottom:1cm;\"></p>\n",
    "<img src=\"https://raw.githubusercontent.com/andrejkk/ORvTK_SlidesImgs/master/footer_full.jpg\">"
   ]
  },
  {
   "cell_type": "markdown",
   "metadata": {
    "slideshow": {
     "slide_type": "slide"
    }
   },
   "source": [
    "# What are social signals? \n",
    "\n",
    "\n",
    "<img style=\"float: center; width: 50%\" src=\"https://raw.githubusercontent.com/andrejkk/TalksImgs/master/WhatAreSocialSignals.png\">\n",
    "\n",
    "\n",
    "<p style=\"margin-bottom:1cm;\"></p>\n",
    "\n",
    "\n",
    "<H2> Problem: <b>Apps, characters, communication devices are socially ignorant</b> </H2>\n",
    "\n",
    "<p style=\"margin-bottom:10em;\"></p>\n",
    "<img src=\"https://raw.githubusercontent.com/andrejkk/ORvTK_SlidesImgs/master/footer_full.jpg\">"
   ]
  },
  {
   "cell_type": "markdown",
   "metadata": {
    "slideshow": {
     "slide_type": "slide"
    }
   },
   "source": [
    "# Can assigned emotions to the Talking Tom help?\n",
    "\n",
    "<p style=\"margin-bottom:0.5cm;\"></p>\n",
    "<H3>It can - there is an impact on end users: </H3>\n",
    "\n",
    "\n",
    "[1] The Encyclopedia of Human-Computer Interaction: **And most action theories assume close links between actions, thoughts and emotions**\n",
    "\n",
    "[2] The experience of enchantment in human–computer interaction: **This combination of emotional attachment together with a\n",
    "sense of something not yet understood leaves us feeling disrupted but also alive, attentive,\n",
    "and curious.**\n",
    "\n",
    "[3] Riding an emotional roller-coaster A multimodal study of young child’s math problem solving activities: **Early exposure to this type of “hard fun” may stimulate child’s interest and curiosity of mathematics and nurture life long skills such as resilience and perseverance.**\n",
    "\n",
    "[4] Emotional Engagement for Human-Computer Interaction in Exhibition Design: **Besides, emotional engagement, which could evoke memory, feelings and cognition, could be an important method for HCI in exhibition design**\n",
    "\n",
    "[5] Understanding Affective Interaction: Emotion, Engagement, and Internet Videos: **...research agenda has branched to\n",
    "include emotional theory [11], the examination of significance of emotion in HCI [20, 31], application interfaces [4, 42, 36, 16, 17, 38], modeling and sensing emotions [1, 25, 40] measuring and evaluating affect [12, 41, 2, 7, 23, 21, 22] and ethical issues [33, 34, 19].**\n",
    "\n",
    "\n",
    "\n",
    "<p style=\"margin-bottom:2cm;\"></p>\n",
    "<img src=\"https://raw.githubusercontent.com/andrejkk/ORvTK_SlidesImgs/master/footer_full.jpg\">"
   ]
  },
  {
   "cell_type": "markdown",
   "metadata": {
    "slideshow": {
     "slide_type": "slide"
    }
   },
   "source": [
    "# What we have done\n",
    "\n",
    "\n",
    "<p style=\"margin-bottom:2cm;\"></p>\n",
    "\n",
    "<center>\n",
    "<table style=\"width:100%; font-size:1.3em; align:center\" >\n",
    "  <tr>\n",
    "    <th>Hesitation aware recommender system</th>\n",
    "    <th>Socially inteligent typing tutor</th> \n",
    "    <th>Socialy signals aware Elderly advisory system</th>\n",
    "  </tr>\n",
    "  <tr>\n",
    "    <td><img style=\"float: center; width: 80%\" src=\"https://raw.githubusercontent.com/andrejkk/TalksImgs/master/SiaHesitationRecSys.png\"></td>\n",
    "    <td><img style=\"float: center; width: 80%\" src=\"https://raw.githubusercontent.com/andrejkk/TalksImgs/master/TypingTutorGUI2.png\"></td> \n",
    "    <td><img style=\"float: center; width: 80%\" src=\"https://raw.githubusercontent.com/andrejkk/TalksImgs/master/AmazonAlexaEchoElderly.jpg\"></td>\n",
    "  </tr>\n",
    "  <tr>\n",
    "    <td>Social signal hesitation can be used **to increase user satisfaction, trust, ...** of users</td>\n",
    "    <td>The application of social signals can **improve communication** and understandig of a user status</td> \n",
    "    <td>**Domain-specific sucess metrics** development is a key to sucess</td>\n",
    "  </tr>\n",
    "</table>\n",
    "</center>\n",
    "\n",
    "\n",
    "\n",
    "<p style=\"margin-bottom:6em;\"></p>\n",
    "<img src=\"https://raw.githubusercontent.com/andrejkk/ORvTK_SlidesImgs/master/footer_full.jpg\">"
   ]
  },
  {
   "cell_type": "markdown",
   "metadata": {
    "slideshow": {
     "slide_type": "slide"
    }
   },
   "source": [
    "# Towards a solution: What are the best emotions Tom should be expressing?\n",
    "\n",
    "\n",
    "<p style=\"margin-bottom:2cm;\"></p>\n",
    "<H3>**None.** </H3>\n",
    "\n",
    "<H3> The best is **emotional roller-coaster**. The right path through emotions. <H3>\n",
    "        \n",
    "<img style=\"float: center; width: 50%\" src=\"https://raw.githubusercontent.com/andrejkk/TalksImgs/master/Emotions-in-V-A-D-space_W640.jpg\">\n",
    "\n",
    "[6] Verma et al: Affect representation and recognition in 3D continuous valence–arousal–dominance space, 2017\n",
    "\n",
    "<p style=\"margin-bottom:2cm;\"></p>\n",
    "<img src=\"https://raw.githubusercontent.com/andrejkk/ORvTK_SlidesImgs/master/footer_full.jpg\">"
   ]
  },
  {
   "cell_type": "markdown",
   "metadata": {
    "slideshow": {
     "slide_type": "slide"
    }
   },
   "source": [
    "# Modeling is based on emotion elicitation\n",
    "\n",
    "<p style=\"margin-bottom:3em;\"></p>\n",
    "\n",
    "We build on:\n",
    "1. Theory of computational models of emotions\n",
    "2. Social signals of Talking Tom: which are relevant?\n",
    "3. Designing classes of emotional roller-coasters\n",
    "4. The mechanism of emotional expression: when, which one, transitions\n",
    "\n",
    "** Models of social signals are not transferable among activities. **\n",
    "\n",
    "<img style=\"float: center; width: 80%; margin-bottom:1cm; margin-right:1cm\" src=\"https://raw.githubusercontent.com/andrejkk/TalksImgs/master/SocialSignalElicitationLoopTom.png\">\n",
    "\n",
    "\n",
    "\n",
    "<p style=\"margin-bottom:3em;\"></p>\n",
    "<img src=\"https://raw.githubusercontent.com/andrejkk/ORvTK_SlidesImgs/master/footer_full.jpg\">"
   ]
  },
  {
   "cell_type": "markdown",
   "metadata": {
    "slideshow": {
     "slide_type": "slide"
    }
   },
   "source": [
    "# What Talking Tom emotions are depednet on - input data\n",
    "\n",
    "\n",
    "<p style=\"margin-bottom:1cm;\"></p>\n",
    "Data sources - current emotion is depednet on \n",
    "- a sequence of user events (button cliks, ...)\n",
    "- local device sensors: noise, movement, proximity\n",
    "- IoT: weather, time of the day, ...\n",
    "- Random \n",
    "\n",
    "\n",
    "We are aware of **restriction on user data**.\n",
    "\n",
    "\n",
    "<p style=\"margin-bottom:2cm;\"></p>\n",
    "<img src=\"https://raw.githubusercontent.com/andrejkk/ORvTK_SlidesImgs/master/footer_full.jpg\">"
   ]
  },
  {
   "cell_type": "markdown",
   "metadata": {
    "slideshow": {
     "slide_type": "slide"
    }
   },
   "source": [
    "# How do we know it works?\n",
    "\n",
    "\n",
    "A **sucess metrics** of the efficiency is a part of the project:\n",
    "- existing success metrics\n",
    "- sucess metrics **development** \n",
    "\n",
    "\n",
    "Proper **experimental design** is the key. \n",
    "    \n",
    "\n",
    "<p style=\"margin-bottom:2cm;\"></p>\n",
    "<img src=\"https://raw.githubusercontent.com/andrejkk/ORvTK_SlidesImgs/master/footer_full.jpg\">"
   ]
  },
  {
   "cell_type": "markdown",
   "metadata": {
    "slideshow": {
     "slide_type": "slide"
    }
   },
   "source": [
    "# We wish to point out\n",
    "\n",
    "It **can be done**. \n",
    "\n",
    "\n",
    "A **sucess metrics** of the efficiency is a part of the project:\n",
    "- existing success metrics\n",
    "- sucess metrics **development** \n",
    "\n",
    "\n",
    "Proper **experimental design** is the key. \n",
    "\n",
    "\n",
    "**Good collaboration with you** is the base.\n",
    "- Lucami: modeling of emotions, experimental designs and usage scenarios, success metrics development\n",
    "- Ekipa 2: discussing our designs, support understanding of experimental results, data\n",
    "    \n",
    "\n",
    "<p style=\"margin-bottom:2cm;\"></p>\n",
    "<img src=\"https://raw.githubusercontent.com/andrejkk/ORvTK_SlidesImgs/master/footer_full.jpg\">"
   ]
  },
  {
   "cell_type": "markdown",
   "metadata": {
    "slideshow": {
     "slide_type": "slide"
    }
   },
   "source": [
    "# Added values\n",
    "\n",
    "- Link to **interdisciplinary domain** knowledge: \n",
    "    - Psychology\n",
    "    - Human to media communication\n",
    "\n",
    "\n",
    "- Mathematical, machine and statistical modeling: \n",
    "    - **Custom solutions**\n",
    "    - optimization\n",
    "\n",
    "\n",
    "- Social signal processing\n",
    "    - Social signal **relevance identification**, generation and processing\n",
    "    - Emotion, affect, mood\n",
    "\n",
    "\n",
    "- Ambient intelligence\n",
    "    - sensors, mapping to cues\n",
    "    - **Contextualization** \n",
    "    - Personalization\n",
    "\n",
    "\n",
    "- **Experimental design and user studies**\n",
    "\n",
    "\n",
    "\n",
    "\n",
    "<p style=\"margin-bottom:2cm;\"></p>\n",
    "<img src=\"https://raw.githubusercontent.com/andrejkk/ORvTK_SlidesImgs/master/footer_full.jpg\">"
   ]
  },
  {
   "cell_type": "markdown",
   "metadata": {
    "slideshow": {
     "slide_type": "slide"
    }
   },
   "source": [
    "<center>\n",
    "<H1> Questions, discussion? </H1>\n",
    "   \n",
    "</center>\n",
    "\n",
    "<p style=\"margin-bottom:2cm;\"></p>\n",
    "<img src=\"https://raw.githubusercontent.com/andrejkk/ORvTK_SlidesImgs/master/footer_full.jpg\">"
   ]
  },
  {
   "cell_type": "markdown",
   "metadata": {
    "slideshow": {
     "slide_type": "slide"
    }
   },
   "source": [
    "# What are relevant emotion-related mechanisms?\n",
    "\n",
    "<H3>\n",
    "1. Mirroring <br>\n",
    "2. Emotions engage <br>\n",
    "3. Positive reinforcement assumption <br>\n",
    "    - What is positive action? <br>\n",
    "    - What is reward? <br>\n",
    "\n",
    "</H3>\n",
    "\n",
    "<img style=\"float: center; width: 40%\" src=\"https://raw.githubusercontent.com/andrejkk/TalksImgs/master/PositiveReinforcementGraph.png\">\n",
    "\n",
    "\n",
    "[7] Stephanie Glover: What Is 'Negative Reinforcement'? Definition and Real-World Examples. \n",
    "\n",
    "<p style=\"margin-bottom:2cm;\"></p>\n",
    "<img src=\"https://raw.githubusercontent.com/andrejkk/ORvTK_SlidesImgs/master/footer_full.jpg\">"
   ]
  }
 ],
 "metadata": {
  "celltoolbar": "Slideshow",
  "kernelspec": {
   "display_name": "Python 2",
   "language": "python",
   "name": "python2"
  },
  "language_info": {
   "codemirror_mode": {
    "name": "ipython",
    "version": 2
   },
   "file_extension": ".py",
   "mimetype": "text/x-python",
   "name": "python",
   "nbconvert_exporter": "python",
   "pygments_lexer": "ipython2",
   "version": "2.7.14"
  }
 },
 "nbformat": 4,
 "nbformat_minor": 2
}
